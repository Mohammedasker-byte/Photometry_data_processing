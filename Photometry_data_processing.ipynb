{
  "nbformat": 4,
  "nbformat_minor": 0,
  "metadata": {
    "colab": {
      "name": "Photometry_data_processing.ipynb",
      "provenance": [],
      "collapsed_sections": [],
      "include_colab_link": true
    },
    "kernelspec": {
      "name": "python3",
      "display_name": "Python 3"
    }
  },
  "cells": [
    {
      "cell_type": "markdown",
      "metadata": {
        "id": "view-in-github",
        "colab_type": "text"
      },
      "source": [
        "<a href=\"https://colab.research.google.com/github/katemartian/Photometry_data_processing/blob/master/Photometry_data_processing.ipynb\" target=\"_parent\"><img src=\"https://colab.research.google.com/assets/colab-badge.svg\" alt=\"Open In Colab\"/></a>"
      ]
    },
    {
      "cell_type": "markdown",
      "metadata": {
        "id": "GE1gt_sczfcI",
        "colab_type": "text"
      },
      "source": [
        "If you want to use this code, please cite our Jove paper:\n",
        "\n",
        "__Martianova, E., Aronson, S., Proulx, C.D.__ [Multi-Fiber Photometry to Record Neural Activity in Freely Moving Animal.](https://www.jove.com/video/60278/multi-fiber-photometry-to-record-neural-activity-freely-moving). _J. Vis. Exp._ (152), e60278, doi:10.3791/60278 (2019)."
      ]
    },
    {
      "cell_type": "markdown",
      "metadata": {
        "id": "Lak9o-Hn3QQW",
        "colab_type": "text"
      },
      "source": [
        "# Functions"
      ]
    },
    {
      "cell_type": "markdown",
      "metadata": {
        "id": "3H_VRXeUIO70",
        "colab_type": "text"
      },
      "source": [
        "Run (Shift+Enter) the following 2 code cells in order to use the functions."
      ]
    },
    {
      "cell_type": "markdown",
      "metadata": {
        "id": "mQObXflHuOxW",
        "colab_type": "text"
      },
      "source": [
        "## z-score dF/F"
      ]
    },
    {
      "cell_type": "code",
      "metadata": {
        "id": "Xt2LHpGotWDC",
        "colab_type": "code",
        "colab": {}
      },
      "source": [
        "def get_zdFF(raw_reference,raw_signal,smooth_win,lambd,porder,itermax,remove): \n",
        "  '''\n",
        "  Calculates z-score dF/F signal based on photometry calcium-idependent \n",
        "  and calcium dependent signals\n",
        "  \n",
        "  Input\n",
        "      raw_reference - calcium-independent signal (usually 405-420 nm excitation)\n",
        "      raw_signal - calcium-dependent signal (usually 465-490 nm excitation)\n",
        "      smooth_win - window for signal \n",
        "      remove - the beginning of the traces with a big slope one would like to remove\n",
        "      Inputs for airPLS:\n",
        "      lambd - parameter that can be adjusted by user. The larger lambda is,  the smoother the resulting background, z\n",
        "      porder - adaptive iteratively reweighted penalized least squares for baseline fitting\n",
        "      itermax\n",
        "  Output\n",
        "      zdFF - z-score dF/F, numpy vector\n",
        "  '''\n",
        "  \n",
        "  import numpy as np\n",
        "\n",
        "# Smooth signal\n",
        "  reference = np.array(raw_reference.rolling(window=smooth_win).mean()).reshape(len(raw_reference),1)\n",
        "  signal = np.array(raw_signal.rolling(window=smooth_win).mean()).reshape(len(raw_signal),1)\n",
        "  \n",
        "# Remove slope using airPLS algorithm\n",
        "  r_base=airPLS(raw_reference.T,lambda_=lambd,porder=porder,itermax=itermax).reshape(len(raw_reference),1)\n",
        "  s_base=airPLS(raw_signal.T,lambda_=lambd,porder=porder,itermax=itermax).reshape(len(raw_signal),1)  \n",
        "\n",
        "# Remove baseline and the begining of test \n",
        "  reference = (reference[remove:] - r_base[remove:])\n",
        "  signal = (signal[remove:] - s_base[remove:])   \n",
        "\n",
        "# Standardize signals    \n",
        "  z_reference = (reference - np.median(reference)) / np.std(reference)\n",
        "  z_signal = (signal - np.median(signal)) / np.std(signal)\n",
        "  \n",
        "# Align reference signal to calcium signal using linear regression\n",
        "  from sklearn.linear_model import Lasso\n",
        "  lin = Lasso(alpha=0.0001,precompute=True,max_iter=1000,\n",
        "              positive=True, random_state=9999, selection='random')\n",
        "  lin.fit(z_reference, z_signal)\n",
        "  z_reference_fitted = lin.predict(z_reference).reshape(len(z_reference),1) \n",
        "\n",
        "# z dFF    \n",
        "  zdFF = (z_signal - z_reference_fitted)\n",
        " \n",
        "  return zdFF"
      ],
      "execution_count": 0,
      "outputs": []
    },
    {
      "cell_type": "markdown",
      "metadata": {
        "id": "cKnY0hyitk_v",
        "colab_type": "text"
      },
      "source": [
        "## airPLS algorithm"
      ]
    },
    {
      "cell_type": "markdown",
      "metadata": {
        "id": "S69QlST55iq4",
        "colab_type": "text"
      },
      "source": [
        "Original code of airPLS"
      ]
    },
    {
      "cell_type": "code",
      "metadata": {
        "id": "l8re-Cp2tp4R",
        "colab_type": "code",
        "colab": {}
      },
      "source": [
        "'''\n",
        "airPLS.py Copyright 2014 Renato Lombardo - renato.lombardo@unipa.it\n",
        "Baseline correction using adaptive iteratively reweighted penalized least squares\n",
        "\n",
        "This program is a translation in python of the R source code of airPLS version 2.0\n",
        "by Yizeng Liang and Zhang Zhimin - https://code.google.com/p/airpls\n",
        "Reference:\n",
        "Z.-M. Zhang, S. Chen, and Y.-Z. Liang, Baseline correction using adaptive iteratively reweighted penalized least squares. Analyst 135 (5), 1138-1146 (2010).\n",
        "\n",
        "Description from the original documentation:\n",
        "\n",
        "Baseline drift always blurs or even swamps signals and deteriorates analytical results, particularly in multivariate analysis.  It is necessary to correct baseline drift to perform further data analysis. Simple or modified polynomial fitting has been found to be effective in some extent. However, this method requires user intervention and prone to variability especially in low signal-to-noise ratio environments. The proposed adaptive iteratively reweighted Penalized Least Squares (airPLS) algorithm doesn't require any user intervention and prior information, such as detected peaks. It iteratively changes weights of sum squares errors (SSE) between the fitted baseline and original signals, and the weights of SSE are obtained adaptively using between previously fitted baseline and original signals. This baseline estimator is general, fast and flexible in fitting baseline.\n",
        "\n",
        "\n",
        "LICENCE\n",
        "This program is free software: you can redistribute it and/or modify\n",
        "it under the terms of the GNU Lesser General Public License as published by\n",
        "the Free Software Foundation, either version 3 of the License, or\n",
        "(at your option) any later version.\n",
        "\n",
        "This program is distributed in the hope that it will be useful,\n",
        "but WITHOUT ANY WARRANTY; without even the implied warranty of\n",
        "MERCHANTABILITY or FITNESS FOR A PARTICULAR PURPOSE.  See the\n",
        "GNU Lesser General Public License for more details.\n",
        "\n",
        "You should have received a copy of the GNU Lesser General Public License\n",
        "along with this program.  If not, see <http://www.gnu.org/licenses/>\n",
        "'''\n",
        "\n",
        "import numpy as np\n",
        "from scipy.sparse import csc_matrix, eye, diags\n",
        "from scipy.sparse.linalg import spsolve\n",
        "\n",
        "def WhittakerSmooth(x,w,lambda_,differences=1):\n",
        "    '''\n",
        "    Penalized least squares algorithm for background fitting\n",
        "    \n",
        "    input\n",
        "        x: input data (i.e. chromatogram of spectrum)\n",
        "        w: binary masks (value of the mask is zero if a point belongs to peaks and one otherwise)\n",
        "        lambda_: parameter that can be adjusted by user. The larger lambda is,  the smoother the resulting background\n",
        "        differences: integer indicating the order of the difference of penalties\n",
        "    \n",
        "    output\n",
        "        the fitted background vector\n",
        "    '''\n",
        "    X=np.matrix(x)\n",
        "    m=X.size\n",
        "    i=np.arange(0,m)\n",
        "    E=eye(m,format='csc')\n",
        "    D=E[1:]-E[:-1] # numpy.diff() does not work with sparse matrix. This is a workaround.\n",
        "    W=diags(w,0,shape=(m,m))\n",
        "    A=csc_matrix(W+(lambda_*D.T*D))\n",
        "    B=csc_matrix(W*X.T)\n",
        "    background=spsolve(A,B)\n",
        "    return np.array(background)\n",
        "\n",
        "def airPLS(x, lambda_=100, porder=1, itermax=15):\n",
        "    '''\n",
        "    Adaptive iteratively reweighted penalized least squares for baseline fitting\n",
        "    \n",
        "    input\n",
        "        x: input data (i.e. chromatogram of spectrum)\n",
        "        lambda_: parameter that can be adjusted by user. The larger lambda is,  the smoother the resulting background, z\n",
        "        porder: adaptive iteratively reweighted penalized least squares for baseline fitting\n",
        "    \n",
        "    output\n",
        "        the fitted background vector\n",
        "    '''\n",
        "    m=x.shape[0]\n",
        "    w=np.ones(m)\n",
        "    for i in range(1,itermax+1):\n",
        "        z=WhittakerSmooth(x,w,lambda_, porder)\n",
        "        d=x-z\n",
        "        dssn=np.abs(d[d<0].sum())\n",
        "        if(dssn<0.001*(abs(x)).sum() or i==itermax):\n",
        "            if(i==itermax): print('WARING max iteration reached!')\n",
        "            break\n",
        "        w[d>=0]=0 # d>0 means that this point is part of a peak, so its weight is set to 0 in order to ignore it\n",
        "        w[d<0]=np.exp(i*np.abs(d[d<0])/dssn)\n",
        "        w[0]=np.exp(i*(d[d<0]).max()/dssn) \n",
        "        w[-1]=w[0]\n",
        "    return z\n"
      ],
      "execution_count": 0,
      "outputs": []
    },
    {
      "cell_type": "markdown",
      "metadata": {
        "id": "uvlknDFG3WsQ",
        "colab_type": "text"
      },
      "source": [
        "# Your data"
      ]
    },
    {
      "cell_type": "markdown",
      "metadata": {
        "id": "ZG_KbLeC3aHM",
        "colab_type": "text"
      },
      "source": [
        "Run the cell to mount disk and to give excess to your google drive"
      ]
    },
    {
      "cell_type": "code",
      "metadata": {
        "id": "USiDLCBp2K8D",
        "colab_type": "code",
        "colab": {}
      },
      "source": [
        "from google.colab import drive\n",
        "drive.mount('/content/drive')"
      ],
      "execution_count": 0,
      "outputs": []
    },
    {
      "cell_type": "markdown",
      "metadata": {
        "id": "HTNxMOVjvhf1",
        "colab_type": "text"
      },
      "source": [
        "Import libraries"
      ]
    },
    {
      "cell_type": "code",
      "metadata": {
        "id": "lQs8zH5Bm_d7",
        "colab_type": "code",
        "colab": {}
      },
      "source": [
        "import numpy as np\n",
        "import pandas as pd\n",
        "import matplotlib.pyplot as plt"
      ],
      "execution_count": 0,
      "outputs": []
    },
    {
      "cell_type": "markdown",
      "metadata": {
        "id": "Ftx6mde_4REx",
        "colab_type": "text"
      },
      "source": [
        "Read your file to a dataframe"
      ]
    },
    {
      "cell_type": "code",
      "metadata": {
        "id": "uJ6rDQoN2Sbh",
        "colab_type": "code",
        "colab": {}
      },
      "source": [
        "# Folder with your files\n",
        "folder = '/content/drive/My Drive/' # Modify it depending on where your file is located\n",
        "# File name\n",
        "file_name = 'example.csv'\n",
        "# Read the file\n",
        "df = pd.read_csv(folder+file_name,index_col=False) # Adjust this line depending on your data file\n",
        "df.head()"
      ],
      "execution_count": 0,
      "outputs": []
    },
    {
      "cell_type": "markdown",
      "metadata": {
        "id": "sS1HiJoa4VgO",
        "colab_type": "text"
      },
      "source": [
        "Choose from the dataframe calcium dependent and independent signals"
      ]
    },
    {
      "cell_type": "code",
      "metadata": {
        "id": "y4ZXVxId4U8b",
        "colab_type": "code",
        "colab": {}
      },
      "source": [
        "# Adjust these lines depending on your dataframe\n",
        "raw_reference = df['MeanInt_410nm'][1:]\n",
        "raw_signal = df['MeanInt_470nm'][1:]"
      ],
      "execution_count": 0,
      "outputs": []
    },
    {
      "cell_type": "markdown",
      "metadata": {
        "id": "dAZFR4X154YM",
        "colab_type": "text"
      },
      "source": [
        "Plot the raw data"
      ]
    },
    {
      "cell_type": "code",
      "metadata": {
        "id": "M7AqIwke52nn",
        "colab_type": "code",
        "colab": {}
      },
      "source": [
        "fig = plt.figure(figsize=(16, 10))\n",
        "ax1 = fig.add_subplot(211)\n",
        "ax1.plot(raw_signal,'blue',linewidth=1.5)\n",
        "ax2 = fig.add_subplot(212)\n",
        "ax2.plot(raw_reference,'purple',linewidth=1.5)"
      ],
      "execution_count": 0,
      "outputs": []
    },
    {
      "cell_type": "markdown",
      "metadata": {
        "id": "yKKBDBnNDepn",
        "colab_type": "text"
      },
      "source": [
        "# Use the function"
      ]
    },
    {
      "cell_type": "markdown",
      "metadata": {
        "id": "D7Gclask5pb1",
        "colab_type": "text"
      },
      "source": [
        "Call the function"
      ]
    },
    {
      "cell_type": "code",
      "metadata": {
        "id": "bUoGUF0Y5ra3",
        "colab_type": "code",
        "colab": {}
      },
      "source": [
        "zdFF = get_zdFF(raw_reference,raw_signal,smooth_win=10,lambd=5e4,porder=1,itermax=50,remove=200)"
      ],
      "execution_count": 0,
      "outputs": []
    },
    {
      "cell_type": "markdown",
      "metadata": {
        "id": "vaKdezCr59da",
        "colab_type": "text"
      },
      "source": [
        "Plot the result"
      ]
    },
    {
      "cell_type": "code",
      "metadata": {
        "id": "rQ8dS2Da5ykE",
        "colab_type": "code",
        "colab": {}
      },
      "source": [
        "fig = plt.figure(figsize=(16, 8))\n",
        "ax1 = fig.add_subplot(111)\n",
        "ax1.plot(zdFF,'black',linewidth=1.5)"
      ],
      "execution_count": 0,
      "outputs": []
    },
    {
      "cell_type": "markdown",
      "metadata": {
        "id": "4C20fPPX9rQf",
        "colab_type": "text"
      },
      "source": [
        "# Analysis step by step"
      ]
    },
    {
      "cell_type": "markdown",
      "metadata": {
        "id": "fYiYEhiO6A-d",
        "colab_type": "text"
      },
      "source": [
        "Smooth"
      ]
    },
    {
      "cell_type": "code",
      "metadata": {
        "id": "K7MAyaNY9Wtc",
        "colab_type": "code",
        "colab": {}
      },
      "source": [
        "smooth_win = 10\n",
        "reference = np.array(raw_reference.rolling(window=smooth_win).mean()).reshape(len(raw_reference),1)\n",
        "signal = np.array(raw_signal.rolling(window=smooth_win).mean()).reshape(len(raw_signal),1)"
      ],
      "execution_count": 0,
      "outputs": []
    },
    {
      "cell_type": "code",
      "metadata": {
        "id": "T9GOc2IrEO-X",
        "colab_type": "code",
        "colab": {}
      },
      "source": [
        "fig = plt.figure(figsize=(16, 10))\n",
        "ax1 = fig.add_subplot(211)\n",
        "ax1.plot(signal,'blue',linewidth=1.5)\n",
        "ax2 = fig.add_subplot(212)\n",
        "ax2.plot(reference,'purple',linewidth=1.5)"
      ],
      "execution_count": 0,
      "outputs": []
    },
    {
      "cell_type": "markdown",
      "metadata": {
        "id": "o-uCAkgtD4_i",
        "colab_type": "text"
      },
      "source": [
        "Find the baseline"
      ]
    },
    {
      "cell_type": "code",
      "metadata": {
        "id": "vDRcFJYg9cPx",
        "colab_type": "code",
        "colab": {}
      },
      "source": [
        "lambd = 5e4 # Adjust lambda to get the best fit\n",
        "porder = 1\n",
        "itermax = 50\n",
        "r_base=airPLS(raw_reference.T,lambda_=lambd,porder=porder,itermax=itermax).reshape(len(raw_reference),1)\n",
        "s_base=airPLS(raw_signal.T,lambda_=lambd,porder=porder,itermax=itermax).reshape(len(raw_signal),1) "
      ],
      "execution_count": 0,
      "outputs": []
    },
    {
      "cell_type": "code",
      "metadata": {
        "id": "MuHycW6GAxvZ",
        "colab_type": "code",
        "colab": {}
      },
      "source": [
        "fig = plt.figure(figsize=(16, 10))\n",
        "ax1 = fig.add_subplot(211)\n",
        "ax1.plot(signal,'blue',linewidth=1.5)\n",
        "ax1.plot(s_base,'black',linewidth=1.5)\n",
        "ax2 = fig.add_subplot(212)\n",
        "ax2.plot(reference,'purple',linewidth=1.5)\n",
        "ax2.plot(r_base,'black',linewidth=1.5)"
      ],
      "execution_count": 0,
      "outputs": []
    },
    {
      "cell_type": "markdown",
      "metadata": {
        "id": "r0ilmPz9oaWs",
        "colab_type": "text"
      },
      "source": [
        "Remove the baseline"
      ]
    },
    {
      "cell_type": "code",
      "metadata": {
        "id": "0s6UNRxUCe6e",
        "colab_type": "code",
        "colab": {}
      },
      "source": [
        "remove=200\n",
        "reference = (reference[remove:] - r_base[remove:])\n",
        "signal = (signal[remove:] - s_base[remove:])  "
      ],
      "execution_count": 0,
      "outputs": []
    },
    {
      "cell_type": "code",
      "metadata": {
        "id": "Np_V9bqLog0R",
        "colab_type": "code",
        "colab": {}
      },
      "source": [
        "fig = plt.figure(figsize=(16, 10))\n",
        "ax1 = fig.add_subplot(211)\n",
        "ax1.plot(signal,'blue',linewidth=1.5)\n",
        "ax2 = fig.add_subplot(212)\n",
        "ax2.plot(reference,'purple',linewidth=1.5)"
      ],
      "execution_count": 0,
      "outputs": []
    },
    {
      "cell_type": "markdown",
      "metadata": {
        "id": "Oq-87e_UvO9C",
        "colab_type": "text"
      },
      "source": [
        "Standardize signals"
      ]
    },
    {
      "cell_type": "code",
      "metadata": {
        "id": "B-8dMDL7okbs",
        "colab_type": "code",
        "colab": {}
      },
      "source": [
        "z_reference = (reference - np.median(reference)) / np.std(reference)\n",
        "z_signal = (signal - np.median(signal)) / np.std(signal)"
      ],
      "execution_count": 0,
      "outputs": []
    },
    {
      "cell_type": "code",
      "metadata": {
        "id": "UJcZmKjUv2wJ",
        "colab_type": "code",
        "colab": {}
      },
      "source": [
        "fig = plt.figure(figsize=(16, 10))\n",
        "ax1 = fig.add_subplot(211)\n",
        "ax1.plot(z_signal,'blue',linewidth=1.5)\n",
        "ax2 = fig.add_subplot(212)\n",
        "ax2.plot(z_reference,'purple',linewidth=1.5)"
      ],
      "execution_count": 0,
      "outputs": []
    },
    {
      "cell_type": "markdown",
      "metadata": {
        "id": "qugBBJnIvLRo",
        "colab_type": "text"
      },
      "source": [
        "Align reference signal to calcium signal using linear regression"
      ]
    },
    {
      "cell_type": "code",
      "metadata": {
        "id": "8pbF1Z7ZvIJp",
        "colab_type": "code",
        "colab": {}
      },
      "source": [
        "from sklearn.linear_model import Lasso\n",
        "lin = Lasso(alpha=0.0001,precompute=True,max_iter=1000,\n",
        "            positive=True, random_state=9999, selection='random')\n",
        "lin.fit(z_reference, z_signal)\n",
        "z_reference_fitted = lin.predict(z_reference).reshape(len(z_reference),1)"
      ],
      "execution_count": 0,
      "outputs": []
    },
    {
      "cell_type": "code",
      "metadata": {
        "id": "vfunk9Y3wirc",
        "colab_type": "code",
        "colab": {}
      },
      "source": [
        "fig = plt.figure(figsize=(16, 8))\n",
        "ax1 = fig.add_subplot(111)\n",
        "ax1.plot(z_reference,z_signal,'b.')\n",
        "ax1.plot(z_reference,z_reference_fitted, 'r--',linewidth=1.5)"
      ],
      "execution_count": 0,
      "outputs": []
    },
    {
      "cell_type": "markdown",
      "metadata": {
        "id": "YY2tZvF7xDuz",
        "colab_type": "text"
      },
      "source": [
        "Plot aligned data"
      ]
    },
    {
      "cell_type": "code",
      "metadata": {
        "id": "ML50ADbLxHAX",
        "colab_type": "code",
        "colab": {}
      },
      "source": [
        "fig = plt.figure(figsize=(16, 8))\n",
        "ax1 = fig.add_subplot(111)\n",
        "ax1.plot(z_signal,'blue')\n",
        "ax1.plot(z_reference_fitted,'purple')"
      ],
      "execution_count": 0,
      "outputs": []
    },
    {
      "cell_type": "markdown",
      "metadata": {
        "id": "QfPBVvp7vuG_",
        "colab_type": "text"
      },
      "source": [
        "Calculate z-score dF/F"
      ]
    },
    {
      "cell_type": "code",
      "metadata": {
        "id": "96_8qNiXvsup",
        "colab_type": "code",
        "colab": {}
      },
      "source": [
        "zdFF = (z_signal - z_reference_fitted)"
      ],
      "execution_count": 0,
      "outputs": []
    },
    {
      "cell_type": "code",
      "metadata": {
        "id": "f1NYdhV6xY66",
        "colab_type": "code",
        "colab": {}
      },
      "source": [
        "fig = plt.figure(figsize=(16, 8))\n",
        "ax1 = fig.add_subplot(111)\n",
        "ax1.plot(zdFF,'black')"
      ],
      "execution_count": 0,
      "outputs": []
    },
    {
      "cell_type": "markdown",
      "metadata": {
        "id": "cQAyfE0-Ne1K",
        "colab_type": "text"
      },
      "source": [
        "# Contact us"
      ]
    },
    {
      "cell_type": "markdown",
      "metadata": {
        "id": "sCpXDrtMNh8R",
        "colab_type": "text"
      },
      "source": [
        "If you have any questions please contact us:\n",
        "ekaterina.martianova.1@ulaval.ca"
      ]
    }
  ]
}